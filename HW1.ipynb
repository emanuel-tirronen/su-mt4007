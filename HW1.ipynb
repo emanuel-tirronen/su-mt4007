{
 "cells": [
  {
   "cell_type": "markdown",
   "id": "b6cdd3d1-7555-45ce-a015-300427c0139b",
   "metadata": {},
   "source": [
    "# Homework 1\n",
    "\n",
    "My name is Emanuel, and I am a second-year student studying Computer Science at Stockholm University. I enjoy learning new technologies and applying them to solve real-world problems.\n",
    "\n",
    "## Previous Experience with Data Science\n",
    "\n",
    "I have some experience with Data Science through previous Python project submissions. I have worked with tools like Python and R, focusing on data analysis and visualization. I'm eager to deepen my knowledge and skills in this field.\n"
   ]
  }
 ],
 "metadata": {
  "kernelspec": {
   "display_name": "Python 3 (ipykernel)",
   "language": "python",
   "name": "python3"
  },
  "language_info": {
   "codemirror_mode": {
    "name": "ipython",
    "version": 3
   },
   "file_extension": ".py",
   "mimetype": "text/x-python",
   "name": "python",
   "nbconvert_exporter": "python",
   "pygments_lexer": "ipython3",
   "version": "3.13.0"
  }
 },
 "nbformat": 4,
 "nbformat_minor": 5
}
